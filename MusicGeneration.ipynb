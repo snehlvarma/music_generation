{
 "cells": [
  {
   "cell_type": "markdown",
   "metadata": {},
   "source": [
    "# Music Generation"
   ]
  },
  {
   "cell_type": "markdown",
   "metadata": {},
   "source": [
    "## Imports"
   ]
  },
  {
   "cell_type": "code",
   "execution_count": 1,
   "metadata": {
    "collapsed": true
   },
   "outputs": [],
   "source": [
    "import numpy as np\n",
    "import pandas as pd\n",
    "import msgpack\n",
    "import glob\n",
    "import tensorflow as tf\n",
    "from tensorflow.python.ops import control_flow_ops\n",
    "from tqdm import tqdm\n",
    "import sys\n",
    "import os\n",
    "import os.path\n",
    "\n",
    "sys.path.append('utils')\n",
    "import midi_manipulation\n",
    "\n"
   ]
  },
  {
   "cell_type": "markdown",
   "metadata": {},
   "source": [
    "## Hyperparameters"
   ]
  },
  {
   "cell_type": "code",
   "execution_count": 2,
   "metadata": {
    "collapsed": true
   },
   "outputs": [],
   "source": [
    "lowest_note = midi_manipulation.lowerBound\n",
    "highest_note = midi_manipulation.upperBound\n",
    "note_range = highest_note - lowest_note\n",
    "\n",
    "num_timesteps = 15 #Number of timesteps to create at a time\n",
    "n_visible = 2*note_range*num_timesteps #Size of visible layer\n",
    "n_hidden = 10 #Size of the hidden layer\n",
    "\n",
    "num_epochs = 500\n",
    "batch_size = 10\n",
    "lr = 0.005"
   ]
  },
  {
   "cell_type": "markdown",
   "metadata": {},
   "source": [
    "## Util functions"
   ]
  },
  {
   "cell_type": "code",
   "execution_count": 3,
   "metadata": {},
   "outputs": [],
   "source": [
    "def get_songs(path):\n",
    "    \n",
    "    songs = []\n",
    "    for dirpath, dirnames, filenames in os.walk(path):\n",
    "        for filename in [f for f in filenames if f.endswith(\".midi\")]:\n",
    "            full_path = os.path.join(dirpath, filename)\n",
    "            try:\n",
    "                song = np.array(midi_manipulation.midiToNoteStateMatrix(full_path))\n",
    "                if np.array(song).shape[0] > 50:\n",
    "                    songs.append(song)\n",
    "            except Exception as e:\n",
    "                pass\n",
    "            \n",
    "    return songs\n",
    "\n",
    "def get_meta_file(path):\n",
    "    files = os.listdir(path)\n",
    "    for file in files:\n",
    "        if '.meta' in file:\n",
    "            return file\n",
    "        \n",
    "    return None"
   ]
  },
  {
   "cell_type": "code",
   "execution_count": 4,
   "metadata": {},
   "outputs": [
    {
     "name": "stdout",
     "output_type": "stream",
     "text": [
      "122 songs processed\n"
     ]
    }
   ],
   "source": [
    "songs = get_songs('Pop_Music_Midi')\n",
    "print('%d songs processed' % len(songs))"
   ]
  },
  {
   "cell_type": "code",
   "execution_count": 5,
   "metadata": {},
   "outputs": [
    {
     "data": {
      "text/plain": [
       "122"
      ]
     },
     "execution_count": 5,
     "metadata": {},
     "output_type": "execute_result"
    }
   ],
   "source": [
    "len(songs)"
   ]
  },
  {
   "cell_type": "markdown",
   "metadata": {},
   "source": [
    "## Model functions"
   ]
  },
  {
   "cell_type": "code",
   "execution_count": 6,
   "metadata": {
    "collapsed": true
   },
   "outputs": [],
   "source": [
    "def sample(probs):\n",
    "    '''\n",
    "    This function let's us easily sample from a vector of probabilities\n",
    "    Takes in a vector of probabilities, and returns a vector of 0s and 1s sampled from the input vector\n",
    "    '''\n",
    "    return tf.floor(probs + tf.random_uniform(tf.shape(probs), 0, 1))\n",
    "\n",
    "#This function runs the gibbs chain. We will call this function in two places:\n",
    "#    - When we define the training update step\n",
    "#    - When we sample our music segments from the trained RBM\n",
    "def gibbs_sample(k):\n",
    "    #Runs a k-step gibbs chain to sample from the probability distribution of the RBM defined by W, bh, bv\n",
    "    def gibbs_step(count, k, xk):\n",
    "        #Runs a single gibbs step. The visible values are initialized to xk\n",
    "        hk = sample(tf.sigmoid(tf.matmul(xk, W) + bh)) #Propagate the visible values to sample the hidden values\n",
    "        xk = sample(tf.sigmoid(tf.matmul(hk, tf.transpose(W)) + bv)) #Propagate the hidden values to sample the visible values\n",
    "        return count+1, k, xk\n",
    "\n",
    "    #Run gibbs steps for k iterations\n",
    "    ct = tf.constant(0) #counter\n",
    "    [_, _, x_sample] = control_flow_ops.while_loop(lambda count, num_iter, *args: count < num_iter,\n",
    "                                         gibbs_step, [ct, tf.constant(k), x])\n",
    "    #This is not strictly necessary in this implementation, but if you want to adapt this code to use one of TensorFlow's\n",
    "    #optimizers, you need this in order to stop tensorflow from propagating gradients back through the gibbs step\n",
    "    x_sample = tf.stop_gradient(x_sample) \n",
    "    return x_sample"
   ]
  },
  {
   "cell_type": "code",
   "execution_count": 7,
   "metadata": {
    "collapsed": true
   },
   "outputs": [],
   "source": [
    "def create_placeholders_variables():\n",
    "    tf.reset_default_graph()\n",
    "    x  = tf.placeholder(tf.float32, [None, n_visible], name=\"x\") #The placeholder variable that holds our data\n",
    "    W  = tf.Variable(tf.random_normal([n_visible, n_hidden], 0.01), name=\"W\") #The weight matrix that stores the edge weights\n",
    "    bh = tf.Variable(tf.zeros([1, n_hidden],  tf.float32, name=\"bh\")) #The bias vector for the hidden layer\n",
    "    bv = tf.Variable(tf.zeros([1, n_visible],  tf.float32, name=\"bv\")) #The bias vector for the visible layer\n",
    "\n",
    "    return x,W,bh,bv\n",
    "\n",
    "def create_model(x,W,bh,bv):\n",
    "    \n",
    "\n",
    "    ### Training Update Code\n",
    "    # Now we implement the contrastive divergence algorithm. First, we get the samples of x and h from the probability distribution\n",
    "    #The sample of x\n",
    "    x_sample = gibbs_sample(1) \n",
    "    #The sample of the hidden nodes, starting from the visible state of x\n",
    "    h = sample(tf.sigmoid(tf.matmul(x, W) + bh)) \n",
    "    #The sample of the hidden nodes, starting from the visible state of x_sample\n",
    "    h_sample = sample(tf.sigmoid(tf.matmul(x_sample, W) + bh)) \n",
    "\n",
    "    #Next, we update the values of W, bh, and bv, based on the difference between the samples that we drew and the original values\n",
    "    size_bt = tf.cast(tf.shape(x)[0], tf.float32)\n",
    "    W_adder  = tf.multiply(lr/size_bt, tf.subtract(tf.matmul(tf.transpose(x), h), tf.matmul(tf.transpose(x_sample), h_sample)))\n",
    "    bv_adder = tf.multiply(lr/size_bt, tf.reduce_sum(tf.subtract(x, x_sample), 0, True))\n",
    "    bh_adder = tf.multiply(lr/size_bt, tf.reduce_sum(tf.subtract(h, h_sample), 0, True))\n",
    "    #When we do sess.run(updt), TensorFlow will run all 3 update steps\n",
    "    updt = [W.assign_add(W_adder), bv.assign_add(bv_adder), bh.assign_add(bh_adder)]\n",
    "    \n",
    "    \n",
    "    model = {'x':x, 'W':W, 'bh':bh, 'bv':bv, 'updt':updt}\n",
    "    \n",
    "    return model"
   ]
  },
  {
   "cell_type": "markdown",
   "metadata": {},
   "source": [
    "## Train"
   ]
  },
  {
   "cell_type": "code",
   "execution_count": 8,
   "metadata": {},
   "outputs": [],
   "source": [
    "def train(model):\n",
    "    \n",
    "    display_freq = num_epochs // 10\n",
    "\n",
    "    with tf.Session() as sess:\n",
    "        tf.global_variables_initializer().run()\n",
    "        tf_saver = tf.train.Saver()\n",
    "        \n",
    "        \n",
    "        for epoch in range(num_epochs):\n",
    "            if(epoch % display_freq == 0):\n",
    "                print('At epoch %d' % epoch)\n",
    "            \n",
    "            for song in songs:\n",
    "                \n",
    "                #The songs are stored in a time x notes format. The size of each song is timesteps_in_song x 2*note_range\n",
    "                #Here we reshape the songs so that each training example is a vector with num_timesteps x 2*note_range elements\n",
    "                song = np.array(song)\n",
    "                song = song[:int(np.floor(song.shape[0]//num_timesteps)*num_timesteps)]\n",
    "                song = np.reshape(song, [song.shape[0]//num_timesteps, song.shape[1]*num_timesteps])\n",
    "                #Train the RBM on batch_size examples at a time\n",
    "                \n",
    "                for i in range(1, len(song), batch_size):\n",
    "                    \n",
    "                    tr_x = song[i:i+batch_size]\n",
    "                    sess.run(model['updt'], feed_dict={x: tr_x})\n",
    "                    \n",
    "        tf_saver.save(sess, 'saved_model/model',global_step=num_epochs)\n",
    "                    \n",
    "                    \n",
    "def test():\n",
    "    #Now the model is fully trained, so let's make some music! \n",
    "    #Run a gibbs chain where the visible nodes are initialized to 0\n",
    "    \n",
    "    with tf.Session() as sess:\n",
    "        print('Testing')\n",
    "        \n",
    "        tf.global_variables_initializer().run()\n",
    "        \n",
    "        print(get_meta_file('saved_model'))\n",
    "        new_saver = tf.train.import_meta_graph('saved_model'+'/'+get_meta_file('saved_model'))\n",
    "        new_saver.restore(sess, tf.train.latest_checkpoint('saved_model'))\n",
    "        graph = tf.get_default_graph()\n",
    "        \n",
    "        x = graph.get_tensor_by_name(\"x:0\")\n",
    "        W = graph.get_tensor_by_name(\"W:0\")\n",
    "        bh = graph.get_tensor_by_name(\"bh:0\")\n",
    "        bv = graph.get_tensor_by_name(\"bv:0\")\n",
    "        \n",
    "        sample = gibbs_sample(1).eval(session=sess, feed_dict={x: np.zeros((50, n_visible))})\n",
    "                \n",
    "        song = np.zeros((0,156))\n",
    "        for i in range(sample.shape[0]):\n",
    "            pass\n",
    "            if not any(sample[i,:]):\n",
    "                continue\n",
    "        #Here we reshape the vector to be time x notes, and then save the vector as a midi file\n",
    "        song_fragment = np.reshape(sample[i,:], (num_timesteps, 2*note_range))\n",
    "        if (np.array(song_fragment).shape[0] > 10 and np.count_nonzero(song_fragment)>1):\n",
    "            song = np.concatenate((song,song_fragment))\n",
    "        \n",
    "        print('Exporting generated song')\n",
    "        midi_manipulation.noteStateMatrixToMidi(song, \"final_song\".format(i))\n",
    "            "
   ]
  },
  {
   "cell_type": "code",
   "execution_count": 9,
   "metadata": {
    "collapsed": true
   },
   "outputs": [],
   "source": [
    "x,W,bh,bv = create_placeholders_variables()"
   ]
  },
  {
   "cell_type": "code",
   "execution_count": 10,
   "metadata": {},
   "outputs": [],
   "source": [
    "model = create_model(x,W,bh,bv)"
   ]
  },
  {
   "cell_type": "code",
   "execution_count": 11,
   "metadata": {},
   "outputs": [
    {
     "name": "stdout",
     "output_type": "stream",
     "text": [
      "At epoch 0\n",
      "At epoch 1\n",
      "At epoch 2\n",
      "At epoch 3\n",
      "At epoch 4\n",
      "At epoch 5\n",
      "At epoch 6\n",
      "At epoch 7\n",
      "At epoch 8\n",
      "At epoch 9\n"
     ]
    }
   ],
   "source": [
    "train(model)"
   ]
  },
  {
   "cell_type": "code",
   "execution_count": 13,
   "metadata": {},
   "outputs": [
    {
     "name": "stdout",
     "output_type": "stream",
     "text": [
      "Testing\n",
      "model-10.meta\n",
      "INFO:tensorflow:Restoring parameters from saved_model\\model-10\n",
      "Exporting generated song\n"
     ]
    }
   ],
   "source": [
    "outSong = test()"
   ]
  },
  {
   "cell_type": "code",
   "execution_count": null,
   "metadata": {
    "collapsed": true
   },
   "outputs": [],
   "source": []
  }
 ],
 "metadata": {
  "kernelspec": {
   "display_name": "Python 3",
   "language": "python",
   "name": "python3"
  },
  "language_info": {
   "codemirror_mode": {
    "name": "ipython",
    "version": 3
   },
   "file_extension": ".py",
   "mimetype": "text/x-python",
   "name": "python",
   "nbconvert_exporter": "python",
   "pygments_lexer": "ipython3",
   "version": "3.6.1"
  }
 },
 "nbformat": 4,
 "nbformat_minor": 2
}
